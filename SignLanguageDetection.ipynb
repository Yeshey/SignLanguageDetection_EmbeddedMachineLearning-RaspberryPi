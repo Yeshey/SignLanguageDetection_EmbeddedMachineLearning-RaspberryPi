{
 "cells": [
  {
   "cell_type": "markdown",
   "metadata": {},
   "source": [
    "## References\n",
    "\n",
    "- Following [*Training Custom Object Detector*](https://tensorflow-object-detection-api-tutorial.readthedocs.io/en/latest/training.html) tutorial\n",
    "  - [TensorFlow Installation](https://tensorflow-object-detection-api-tutorial.readthedocs.io/en/latest/install.html#tf-install) Notes:\n",
    "    - With Anaconda installed, use `conda info --envs` to see created environments\n",
    "    - Before working on the project, do `conda activate signLanguageDetector` to activate the environment every time\n",
    "    - Install cuda and cudnn tu use GPU on manjaro with `sudo pacman -S cuda cudnn`"
   ]
  },
  {
   "cell_type": "code",
   "execution_count": null,
   "metadata": {
    "vscode": {
     "languageId": "plaintext"
    }
   },
   "outputs": [],
   "source": []
  }
 ],
 "metadata": {
  "language_info": {
   "name": "python"
  },
  "orig_nbformat": 4
 },
 "nbformat": 4,
 "nbformat_minor": 2
}
