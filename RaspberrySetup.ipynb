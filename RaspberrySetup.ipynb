{
 "cells": [
  {
   "cell_type": "markdown",
   "metadata": {},
   "source": [
    "# RaspBerry Pi Setup"
   ]
  },
  {
   "cell_type": "markdown",
   "metadata": {},
   "source": [
    "## References\n",
    "\n",
    "### Training the model  \n",
    "\n",
    "1. Following [*TensorFlow-Lite-Object-Detection-on-Android-and-Raspberry-Pi*](https://github.com/EdjeElectronics/TensorFlow-Lite-Object-Detection-on-Android-and-Raspberry-Pi)\n",
    "   - Using python with OpenCV with the new libcamera stack (instead of legacy camera) needs picamera2, [installing it through here](https://www.raspberrypi.com/news/using-the-picamera2-library-with-tensorflow-lite/):\n",
    "     - Installing the Picamera2 library:\n",
    "       - Besides all requiered commands, run these: \n",
    "         ```bash\n",
    "          sudo apt-get install libyaml-dev\n",
    "          sudo apt-get install libudev-dev\n",
    "          sudo apt install -y cmake\n",
    "          sudo apt-get install python-jinja2\n",
    "          sudo apt-get install python-ply\n",
    "          pip install pyyaml\n",
    "          sudo apt-get install python3-sphinx\n",
    "          sudo apt-get install qttools5-dev-tools\n",
    "         ```\n",
    "       - and install all the dependencies in *README.rst* after running `git clone --branch picamera2 https://github.com/raspberrypi/libcamera.git && cd libcamera`\n",
    "       - you might have to [increase the swap](https://stackoverflow.com/questions/30887143/make-j-8-g-internal-compiler-error-killed-program-cc1plus) to build it successfully too\n",
    "   - notes:\n",
    "     - [opencv with raspberry libcamera in C++](https://github.com/Qengineering/Libcamera-OpenCV-RPi-Bullseye-32OS)"
   ]
  },
  {
   "cell_type": "markdown",
   "metadata": {},
   "source": []
  },
  {
   "cell_type": "markdown",
   "metadata": {},
   "source": []
  }
 ],
 "metadata": {
  "language_info": {
   "name": "python"
  },
  "orig_nbformat": 4
 },
 "nbformat": 4,
 "nbformat_minor": 2
}
