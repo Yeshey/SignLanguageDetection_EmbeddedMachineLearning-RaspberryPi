{
 "cells": [
  {
   "cell_type": "markdown",
   "metadata": {},
   "source": [
    "# Raspberry Pi Setup"
   ]
  },
  {
   "cell_type": "markdown",
   "metadata": {},
   "source": [
    "## Dependencies\n",
    "\n",
    "1. Its advised to create a contained environment to install all dependencies as explained [here](https://github.com/EdjeElectronics/TensorFlow-Lite-Object-Detection-on-Android-and-Raspberry-Pi/blob/master/Raspberry_Pi_Guide.md#step-1b-download-this-repository-and-create-virtual-environment)\n",
    "   1. `cd ~`\n",
    "   2. `sudo pip3 install virtualenv`\n",
    "   3. `python3 -m venv tflite1-env`\n",
    "   4. `source ~/tflite1-env/bin/activate`\n",
    "   5. Note you'll have to run the above command every time you open a new terminal to work on this project now, you can add it to `~/.bashrc` so its executed automatically every time you open a terminal with this command:\n",
    "      `echo 'source ~/tflite1-env/bin/activate' >> ~/.bashrc`\n",
    "   6. If in a new terminal you see (tflite1-env) instead of (base) behind the prompt, it's working\n",
    "2. Following [*TensorFlow-Lite-Object-Detection-on-Android-and-Raspberry-Pi*](https://github.com/EdjeElectronics/TensorFlow-Lite-Object-Detection-on-Android-and-Raspberry-Pi)\n",
    "   - For the time being, installing picamera2 is a hassel due to the transition from the legacy camera to the libcamera stack on the raspberry  \n",
    "     To install it, we need to build several dependencies, these are in `./RaspberryPi/picamera2Setup/` in this repo  \n",
    "     [following these instructions](https://www.raspberrypi.com/news/using-the-picamera2-library-with-tensorflow-lite/), we have to:\n",
    "     1. Install dependencies:\n",
    "        ```bash\n",
    "          sudo apt update\n",
    "          sudo apt install -y libboost-dev\n",
    "          sudo apt install -y libgnutls28-dev openssl libtiff5-dev\n",
    "          sudo apt install -y qtbase5-dev libqt5core5a libqt5gui5 libqt5widgets5\n",
    "          sudo apt install -y meson\n",
    "          sudo pip3 install pyyaml ply\n",
    "          sudo pip3 install --upgrade meson\n",
    "          sudo apt install -y libglib2.0-dev libgstreamer-plugins-base1.0-dev\n",
    "          sudo pip3 install pyopengl\n",
    "          sudo apt install python3-pyqt5\n",
    "          sudo pip3 install opencv-python==4.4.0.46\n",
    "          sudo apt install -y libatlas-base-dev\n",
    "          pip3 install numpy\n",
    "          sudo apt install build-essentials\n",
    "          sudo apt install git\n",
    "          sudo apt install python3-pip\n",
    "          pip3 install tflite-runtime\n",
    "          pip3 install opencv-python==4.4.0.46\n",
    "          pip3 install pillow\n",
    "          sudo pip3 install numpy --upgrade\n",
    "\n",
    "          pip3 install pyqt5\n",
    "\n",
    "          sudo apt-get install libyaml-dev\n",
    "          sudo apt-get install libudev-dev\n",
    "          sudo apt install -y cmake\n",
    "          sudo apt-get install python-jinja2\n",
    "          sudo apt-get install python-ply\n",
    "          sudo pip3 install pyyaml\n",
    "          sudo apt-get install python3-sphinx\n",
    "          sudo apt-get install qttools5-dev-tools\n",
    "          pip3 install python-prctl==1.6.1\n",
    "          pip3 install simplejpeg\n",
    "          pip3 install piexif\n",
    "          pip3 install pidng\n",
    "          pip3 install PyOpenGL\n",
    "        ```\n",
    "     2. you might have to [increase the swap](https://stackoverflow.com/questions/30887143/make-j-8-g-internal-compiler-error-killed-program-cc1plus) to build it successfully too. Check with `top` that you have not much less than 2Gb with RAM and SWAP combined\n",
    "     3. Building Picamera2 library:\n",
    "          1. Install all the dependencies in */RaspberryPi/picamera2Setup/picamera2/README.rst*\n",
    "               - Something like (the command is likely to be depracated rapidaly)  \n",
    "                 `sudo apt-get install -y ninja-build pkg-config libgnutls28-dev openssl libgnutls28-dev openssl libboost-dev libudev-dev python3-sphinx doxygen graphviz texlive-latex-extra libgstreamer1.0-dev libgstreamer-plugins-base1.0-dev libevent-dev qtbase5-dev libqt5core5a libqt5gui5 libqt5widgets5 qttools5-dev-tools libtiff-dev liblttng-ust-dev python3-jinja2 lttng-tools libevent-dev libexif-dev libjpeg-dev`\n",
    "          2. `cd /RaspberryPi/picamera2Setup/libcamera`\n",
    "          3. `meson build --buildtype=release -Dpipelines=raspberrypi -Dipas=raspberrypi -Dv4l2=true -Dgstreamer=enabled -Dtest=false -Dlc-compliance=disabled -Dcam=disabled -Dqcam=enabled -Ddocumentation=disabled -Dpycamera=enabled`\n",
    "          4. `ninja -C build`\n",
    "          5. `sudo ninja -C build install`\n",
    "     4. Building kmsxx library:\n",
    "          1. `cd /RaspberryPi/picamera2Setup/kmsxx`\n",
    "          2. `git submodule update --init`\n",
    "          3. `meson build`\n",
    "          4. `ninja -C build`\n",
    "     5. To make everything run, you will also have to set your `PYTHONPATH` environment variable. For example, we can add it to the `.bashrc` file:  \n",
    "        alter the following line so it points to your dependencies in your system in `/RaspberryPi/picamera2Setup/`\n",
    "        `export PYTHONPATH=/home/pi/repo/RaspberryPi/picamera2Setup/picamera2:/home/pi/repo/RaspberryPi/picamera2Setup/libcamera/build/src/py:/home/pi/repo/RaspberryPi/picamera2Setup/kmsxx/build/py:/home/pi/repo/RaspberryPi/picamera2Setup/python-v4l2`\n",
    "- notes/other links:\n",
    "   - [opencv with raspberry libcamera in C++](https://github.com/Qengineering/Libcamera-OpenCV-RPi-Bullseye-32OS)"
   ]
  },
  {
   "cell_type": "markdown",
   "metadata": {},
   "source": [
    "## Test the installation"
   ]
  }
 ],
 "metadata": {
  "language_info": {
   "name": "python"
  },
  "orig_nbformat": 4
 },
 "nbformat": 4,
 "nbformat_minor": 2
}
